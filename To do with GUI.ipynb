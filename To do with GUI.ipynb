{
 "cells": [
  {
   "cell_type": "code",
   "execution_count": 3,
   "id": "b6ef19f2",
   "metadata": {},
   "outputs": [],
   "source": [
    "import tkinter as tk\n",
    "from tkinter import messagebox\n",
    "\n",
    "def add_task():\n",
    "    task = task_entry.get()\n",
    "    if task:\n",
    "        tasks_listbox.insert(tk.END, task)\n",
    "        task_entry.delete(0, tk.END)\n",
    "    else:\n",
    "        messagebox.showwarning(\"Warning\", \"You must enter a task.\")\n",
    "\n",
    "def delete_task():\n",
    "    try:\n",
    "        selected_task_index = tasks_listbox.curselection()[0]\n",
    "        tasks_listbox.delete(selected_task_index)\n",
    "    except:\n",
    "        messagebox.showwarning(\"Warning\", \"You must select a task to delete.\")\n",
    "\n",
    "app = tk.Tk()\n",
    "app.title(\"To-Do List\")\n",
    "\n",
    "frame = tk.Frame(app)\n",
    "frame.pack(pady=10)\n",
    "\n",
    "task_entry = tk.Entry(frame, width=30)\n",
    "task_entry.pack(side=tk.LEFT, padx=10)\n",
    "\n",
    "add_task_button = tk.Button(frame, text=\"Add Task\", command=add_task)\n",
    "add_task_button.pack(side=tk.LEFT)\n",
    "\n",
    "tasks_listbox = tk.Listbox(app, width=50, height=10)\n",
    "tasks_listbox.pack(pady=10)\n",
    "\n",
    "delete_task_button = tk.Button(app, text=\"Delete Task\", command=delete_task)\n",
    "delete_task_button.pack(pady=5)\n",
    "\n",
    "app.mainloop()\n"
   ]
  },
  {
   "cell_type": "code",
   "execution_count": null,
   "id": "c2093a89",
   "metadata": {},
   "outputs": [],
   "source": []
  }
 ],
 "metadata": {
  "kernelspec": {
   "display_name": "Python 3 (ipykernel)",
   "language": "python",
   "name": "python3"
  },
  "language_info": {
   "codemirror_mode": {
    "name": "ipython",
    "version": 3
   },
   "file_extension": ".py",
   "mimetype": "text/x-python",
   "name": "python",
   "nbconvert_exporter": "python",
   "pygments_lexer": "ipython3",
   "version": "3.9.7"
  }
 },
 "nbformat": 4,
 "nbformat_minor": 5
}
