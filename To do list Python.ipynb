{
 "cells": [
  {
   "cell_type": "code",
   "execution_count": null,
   "id": "907c461d",
   "metadata": {},
   "outputs": [
    {
     "name": "stdout",
     "output_type": "stream",
     "text": [
      "1. Add Task\n",
      "2. View Tasks\n",
      "3. Delete Task\n",
      "4. Exit\n",
      "Choose an option: 1\n",
      "Enter the task: hfhufu\n",
      "1. Add Task\n",
      "2. View Tasks\n",
      "3. Delete Task\n",
      "4. Exit\n",
      "Choose an option: 2\n",
      "1. hfhufu\n",
      "1. Add Task\n",
      "2. View Tasks\n",
      "3. Delete Task\n",
      "4. Exit\n"
     ]
    }
   ],
   "source": [
    "def add_task(task):\n",
    "    with open(\"todo.txt\", \"a\") as file:\n",
    "        file.write(task + \"\\n\")\n",
    "\n",
    "def view_tasks():\n",
    "    with open(\"todo.txt\", \"r\") as file:\n",
    "        tasks = file.readlines()\n",
    "    for idx, task in enumerate(tasks, start=1):\n",
    "        print(f\"{idx}. {task.strip()}\")\n",
    "\n",
    "def delete_task(task_number):\n",
    "    with open(\"todo.txt\", \"r\") as file:\n",
    "        tasks = file.readlines()\n",
    "    if 0 < task_number <= len(tasks):\n",
    "        del tasks[task_number - 1]\n",
    "        with open(\"todo.txt\", \"w\") as file:\n",
    "            file.writelines(tasks)\n",
    "\n",
    "def main():\n",
    "    while True:\n",
    "        print(\"1. Add Task\")\n",
    "        print(\"2. View Tasks\")\n",
    "        print(\"3. Delete Task\")\n",
    "        print(\"4. Exit\")\n",
    "        choice = input(\"Choose an option: \")\n",
    "        if choice == \"1\":\n",
    "            task = input(\"Enter the task: \")\n",
    "            add_task(task)\n",
    "        elif choice == \"2\":\n",
    "            view_tasks()\n",
    "        elif choice == \"3\":\n",
    "            task_number = int(input(\"Enter the task number to delete: \"))\n",
    "            delete_task(task_number)\n",
    "        elif choice == \"4\":\n",
    "            break\n",
    "        else:\n",
    "            print(\"Invalid choice. Try again.\")\n",
    "\n",
    "if __name__ == \"__main__\":\n",
    "    main()\n"
   ]
  },
  {
   "cell_type": "code",
   "execution_count": null,
   "id": "efc61936",
   "metadata": {},
   "outputs": [],
   "source": []
  }
 ],
 "metadata": {
  "kernelspec": {
   "display_name": "Python 3 (ipykernel)",
   "language": "python",
   "name": "python3"
  },
  "language_info": {
   "codemirror_mode": {
    "name": "ipython",
    "version": 3
   },
   "file_extension": ".py",
   "mimetype": "text/x-python",
   "name": "python",
   "nbconvert_exporter": "python",
   "pygments_lexer": "ipython3",
   "version": "3.9.7"
  }
 },
 "nbformat": 4,
 "nbformat_minor": 5
}
